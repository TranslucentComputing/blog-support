{
 "cells": [
  {
   "cell_type": "markdown",
   "id": "c19d6f69-d95f-4119-9ed6-997e054ac534",
   "metadata": {},
   "source": [
    "<img src=\"data:image/png;base64,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\" width=\"150\">\n",
    "\n",
    "# Secure Ollama Access\n",
    "\n",
    "This notebook provides a comprehensive guide to automating the secure login process for the Ollama platform using Selenium.\n",
    "\n",
    "The Ollama Kubernetes deployment requires authenticated access via a secure OAuth2 proxy.\n",
    "\n",
    "This notebook automates the login process, retrieves the necessary authentication cookie, and demonstrates how to use this cookie to interact with the Ollama API."
   ]
  },
  {
   "cell_type": "code",
   "execution_count": null,
   "id": "068e6a90-84e2-4568-a545-a8b319eaf0a4",
   "metadata": {},
   "outputs": [],
   "source": [
    "# Install required libraries, restart the kernel after install\n",
    "\n",
    "!pip install langchain_community selenium webdriver-manager"
   ]
  },
  {
   "cell_type": "code",
   "execution_count": null,
   "id": "40c06094-b263-487c-a4d5-cb0a60f3cf40",
   "metadata": {},
   "outputs": [],
   "source": [
    "# Import libraries\n",
    "import logging\n",
    "\n",
    "from langchain_community.llms import Ollama\n",
    "\n",
    "from selenium import webdriver\n",
    "from selenium.webdriver.chrome.service import Service\n",
    "from selenium.webdriver.chrome.options import Options\n",
    "from selenium.webdriver.support.ui import WebDriverWait\n",
    "from selenium.common.exceptions import TimeoutException\n",
    "from webdriver_manager.chrome import ChromeDriverManager\n",
    "\n",
    "\n",
    "# Set up logging for Jupyter notebook\n",
    "logger = logging.getLogger()\n",
    "logger.setLevel(logging.INFO)\n",
    "\n",
    "# Check if handlers are already attached (to avoid adding multiple handlers)\n",
    "if not logger.hasHandlers():\n",
    "    # Create a console handler with a specific format\n",
    "    console_handler = logging.StreamHandler()\n",
    "    formatter = logging.Formatter('%(asctime)s - %(name)s - %(levelname)s - %(message)s')\n",
    "    console_handler.setFormatter(formatter)\n",
    "    \n",
    "    # Add the handler to the logger\n",
    "    logger.addHandler(console_handler)"
   ]
  },
  {
   "cell_type": "code",
   "execution_count": null,
   "id": "f60b78cf-236a-41e1-9dab-149c85f5947f",
   "metadata": {},
   "outputs": [],
   "source": [
    "def get_kubert_oauth_cookie(kubert_ollama_url, kubert_cookie, wait_time=600):\n",
    "    \"\"\"\n",
    "    Automates the login process to retrieve the '_kubert_oauth' cookie.\n",
    "\n",
    "    Args:\n",
    "        kubert_ollama_url (str): The URL to navigate to for logging in.\n",
    "        kubert_cookie (str): The name of the secure cookie\n",
    "        wait_time (int): Maximum time for the login to complete and the cookie to appear (in seconds).\n",
    "\n",
    "    Returns:\n",
    "        str: The cookie value.\n",
    "\n",
    "    Raises:\n",
    "        Exception: If the login fails or the cookie is not retrieved.\n",
    "    \"\"\"\n",
    "    \n",
    "    # Step 1: Set up Selenium and Chrome WebDriver\n",
    "    chrome_options = Options()\n",
    "    chrome_options.add_argument(\"--no-sandbox\")\n",
    "    chrome_options.add_argument(\"--disable-dev-shm-usage\")\n",
    "\n",
    "    service = Service(ChromeDriverManager().install())\n",
    "    driver = webdriver.Chrome(service=service, options=chrome_options)\n",
    "\n",
    "    try:\n",
    "        # Step 2: Navigate to the login URL\n",
    "        logging.info(f\"Navigating to {kubert_ollama_url}...\")\n",
    "        driver.get(kubert_ollama_url)\n",
    "\n",
    "        # Step 3: Wait until the \"Ollama is running\" text appears\n",
    "        logging.info(\"Please complete the login process in the browser window...\")\n",
    "        try:\n",
    "            WebDriverWait(driver, wait_time).until(  # Wait up to the specified wait_time\n",
    "                lambda d: \"Ollama is running\" in d.page_source\n",
    "            )\n",
    "            logging.info(\"Login successful, 'Ollama is running' text found.\")\n",
    "        except TimeoutException:\n",
    "            logging.error(\"Login timed out. 'Ollama is running' text not found.\")\n",
    "            raise Exception(\"Login process failed or took too long.\")\n",
    "\n",
    "        # Step 4: Capture cookies after login\n",
    "        cookies = driver.get_cookies()\n",
    "\n",
    "        # Find the specific cookie by name\n",
    "        kubert_oauth_cookie = None\n",
    "        for cookie in cookies:\n",
    "            if cookie['name'] == cookie_name:\n",
    "                kubert_oauth_cookie = cookie['value']\n",
    "                break\n",
    "\n",
    "        if kubert_oauth_cookie:\n",
    "            logging.info(\"Kubert OAuth Cookie retrieved successfully.\")\n",
    "            return kubert_oauth_cookie\n",
    "        else:\n",
    "            logging.error(\"Failed to retrieve Kubert OAuth cookie.\")\n",
    "            raise Exception(\"Kubert OAuth cookie was not found after login.\")\n",
    "\n",
    "    finally:\n",
    "        # Step 5: Close the browser window\n",
    "        driver.quit()"
   ]
  },
  {
   "cell_type": "markdown",
   "id": "1395a76b",
   "metadata": {},
   "source": [
    "### Test\n",
    "\n",
    "1. Configure the Ollam URL to your Kubernetes ingress ULR.\n",
    "2. Provide the secure cookie name that is configured with Oauth2 proxy deployed to process Ollama request.\n",
    "3. Log into Keycloak with your account or provider.\n",
    "4. Configure Ollama client and execute a test."
   ]
  },
  {
   "cell_type": "code",
   "execution_count": null,
   "id": "3d51096d-242a-443d-9654-71d6df76f040",
   "metadata": {},
   "outputs": [],
   "source": [
    "# Ollama URL\n",
    "ollama_url='add me'\n",
    "\n",
    "# Name of the secure cookie\n",
    "cookie_name = 'add me'"
   ]
  },
  {
   "cell_type": "code",
   "execution_count": null,
   "id": "68925b95-bc1e-45f7-8217-d99cb96291b0",
   "metadata": {},
   "outputs": [],
   "source": [
    "# Initiate the login process and retrieve the cookie\n",
    "cookie = get_kubert_oauth_cookie(ollama_url, cookie_name, wait_time=600)\n",
    "\n",
    "# Headers for Ollama\n",
    "ollama_headers = {\n",
    "    \"Cookie\": f\"{cookie_name}={cookie}\"\n",
    "}"
   ]
  },
  {
   "cell_type": "code",
   "execution_count": null,
   "id": "b93dae39-7401-433d-b9cd-58d99524ddcc",
   "metadata": {},
   "outputs": [],
   "source": [
    "# Choose the Ollama model to use, assuming that it was pulled.\n",
    "model=\"llama3.1:8b\""
   ]
  },
  {
   "cell_type": "code",
   "execution_count": null,
   "id": "8700da57-07ef-4dfa-86df-e2680610b3e0",
   "metadata": {},
   "outputs": [],
   "source": [
    "# Create the Ollama client\n",
    "ollama_kubert = Ollama(\n",
    "    base_url=ollama_url,\n",
    "    headers=ollama_headers,\n",
    "    model=model\n",
    ")"
   ]
  },
  {
   "cell_type": "code",
   "execution_count": null,
   "id": "adcdf0ef-1835-482d-9688-697d115a7a4c",
   "metadata": {},
   "outputs": [],
   "source": [
    "# Quick test\n",
    "response = ollama_kubert.invoke(\"What is Kubernetes?\")\n",
    "print(response)"
   ]
  }
 ],
 "metadata": {
  "kernelspec": {
   "display_name": "Python 3 (ipykernel)",
   "language": "python",
   "name": "python3"
  },
  "language_info": {
   "codemirror_mode": {
    "name": "ipython",
    "version": 3
   },
   "file_extension": ".py",
   "mimetype": "text/x-python",
   "name": "python",
   "nbconvert_exporter": "python",
   "pygments_lexer": "ipython3",
   "version": "3.12.5"
  }
 },
 "nbformat": 4,
 "nbformat_minor": 5
}
